{
 "cells": [
  {
   "cell_type": "markdown",
   "metadata": {},
   "source": [
    "# IMPLICIT MODELING TUTORIAL\n",
    "We introduce the opengeode implicit modeling tool. We will build a scalar field representaing stratigraphic horizons inside fault blocks. The workflow illustrated here follows 5 steps:\n",
    " 1. Identify fault blocks by creating a geode structural model that only integrates faults. This first step requieres fault geometries to process with geode's explicit tools (repair and remesh).\n",
    " 1. Build the horizon stack which describe the logical order of startigraphic dicontinuities. The horizon stack define the horizons and discontinuities that will be considered in the scalar field. Isovalues associated to each horizon is then implicitly sected.\n",
    " 1. Integrate stratigraphic evidence, i.e. point coordinates where stratigraphic discontinuities have been observed. This step link points of the 3D space to their stratigraphic discontinuity in the horizon stack.\n",
    " 1. Interpolate implicit function \n",
    " 1. Explicit horizons in the structural model "
   ]
  },
  {
   "cell_type": "code",
   "execution_count": null,
   "metadata": {},
   "outputs": [],
   "source": [
    "import opengeode as og \n",
    "import opengeode_geosciences as ogg\n",
    "import geode_common as common\n",
    "import geode_simplex as simplex\n",
    "import geode_numerics\n",
    "import geode_implicit \n",
    "import geode_explicit\n",
    "\n",
    "\n",
    "# define various utilities functions\n",
    "import os\n",
    "def input(path):\n",
    "  return os.path.join(\"data/\",path) \n",
    "\n",
    "def create_folder_if_does_not_exists(path):\n",
    "  if( not os.path.isdir(path)):\n",
    "    os.makedirs(path)\n",
    "\n",
    "def output(path):\n",
    "  result_path = \"results/\"\n",
    "  create_folder_if_does_not_exists(result_path)\n",
    "  return os.path.join(result_path,path)\n",
    "\n",
    "def create_aligned_box3D(extent_x,extent_y,extent_z):\n",
    "    bbox = og.BoundingBox3D()\n",
    "    bbox.add_point(og.Point3D([0,0,0]))\n",
    "    bbox.add_point(og.Point3D([extent_x,extent_y,extent_z]))\n",
    "    return bbox\n",
    "\n",
    "print(\"Geode module imported!\")"
   ]
  },
  {
   "cell_type": "markdown",
   "metadata": {},
   "source": [
    "## Implicit modeling in a simple cube\n",
    "### Create a cubic fault block \n",
    "steps:\n",
    " 1. create six triangulated surfaces bounding a cube\n",
    " 1. create a Brep using the repair technology in explicit modeling (no faults are considered in this exmaple then the cude is fault block)\n",
    " 1. create a structural model from the brep"
   ]
  },
  {
   "cell_type": "code",
   "execution_count": null,
   "metadata": {},
   "outputs": [],
   "source": [
    "# define function\n",
    "def create_surface_from_orbital_points(points):\n",
    "    surface = og.PolygonalSurface3D.create()\n",
    "    builder = og.PolygonalSurfaceBuilder3D.create(surface)\n",
    "    vertices=[]\n",
    "    for point in points:\n",
    "        vertices.append(builder.create_point(point))\n",
    "    builder.create_polygon(vertices)\n",
    "    og.triangulate_surface_mesh3D(surface)\n",
    "    return og.convert_surface_mesh_into_triangulated_surface3D(surface)\n",
    "\n",
    "# Create a cubic fault block\n",
    "box = create_aligned_box3D(40, 40, 40)\n",
    "\n",
    "# corner points on the top of the box. \n",
    "top1 = og.Point3D([box.min().value(0),box.min().value(1),box.max().value(2)])\n",
    "top2 = og.Point3D([box.min().value(0),box.max().value(1),box.max().value(2)])\n",
    "top3 = og.Point3D([box.max().value(0),box.max().value(1),box.max().value(2)])\n",
    "top4 = og.Point3D([box.max().value(0),box.min().value(1),box.max().value(2)])\n",
    "# corner points on the bottom of the box. \n",
    "bot1 = og.Point3D([box.min().value(0),box.min().value(1),box.min().value(2)])\n",
    "bot2 = og.Point3D([box.min().value(0),box.max().value(1),box.min().value(2)])\n",
    "bot3 = og.Point3D([box.max().value(0),box.max().value(1),box.min().value(2)])\n",
    "bot4 = og.Point3D([box.max().value(0),box.min().value(1),box.min().value(2)])\n",
    "\n",
    "# surface of the bounding box. \n",
    "top = create_surface_from_orbital_points([top1,top2,top3,top4])\n",
    "bottom = create_surface_from_orbital_points([bot1,bot2,bot3,bot4])\n",
    "front = create_surface_from_orbital_points([top1,top4,bot4,bot1])\n",
    "back = create_surface_from_orbital_points([top2,top3,bot3,bot2])\n",
    "left = create_surface_from_orbital_points([top1,top2,bot2,bot1])\n",
    "right = create_surface_from_orbital_points([top3,top4,bot4,bot3])\n",
    "\n",
    "# explicit modeling to create the BRep\n",
    "modeler = geode_explicit.BRepExplicitModeler()\n",
    "modeler.add_triangulated_surface(top)\n",
    "modeler.add_triangulated_surface(bottom)\n",
    "modeler.add_triangulated_surface(front)\n",
    "modeler.add_triangulated_surface(back)\n",
    "modeler.add_triangulated_surface(left)\n",
    "modeler.add_triangulated_surface(right)\n",
    "box_brep = modeler.build()\n",
    "\n",
    "# mesh blocks\n",
    "edge_length = 2\n",
    "cst_metric = common.ConstantMetric3D(edge_length)\n",
    "remeshed_brep = simplex.brep_simplex_remesh(box_brep,cst_metric)[0]\n",
    "\n",
    "# build a structural model from the BRep\n",
    "box_structural_model = ogg.StructuralModel(remeshed_brep)\n",
    "\n",
    "#save to vtm for a visualization in paraview\n",
    "og.save_brep(box_structural_model,output(\"box_brep.vtm\"))"
   ]
  },
  {
   "cell_type": "markdown",
   "metadata": {},
   "source": [
    "![Box structural model](./pictures/box_brep.png)\n",
    "\n",
    "___\n",
    "In short, INPUTS from feflow are:\n",
    "\n",
    " * fault surfaces --> Group of polygons in feflow tagged as a \"fault\" (Geode's need to know each fault)\n",
    " * boundary surfaces --> Group of polygons in feflow tagged as a \"boundary\" (Geode's nbeed to know each boundary to seal the model)\n",
    "___\n",
    "\n",
    "### Build the Horizons Stack\n",
    "Here, we define the horizons stack by naming and organizing hozions and stratigraphic units. "
   ]
  },
  {
   "cell_type": "code",
   "execution_count": null,
   "metadata": {},
   "outputs": [],
   "source": [
    "# naming from the bottom to the top horizon\n",
    "horizons_names = [ \"hor_bot\", \"hor_top\" ]\n",
    "# naming from the bottom to the top stratigraphic unit \n",
    "stratigraphic_unit_names = [ \"su_bot\", \"su_mid\", \"su_top\" ]\n",
    "# create horizons stacks from names\n",
    "horizon_stack = ogg.horizons_stack_from_name_list_3d( horizons_names, stratigraphic_unit_names )"
   ]
  },
  {
   "cell_type": "markdown",
   "metadata": {},
   "source": [
    "The horizons stacks requieres the name of each stratigraphic discontinuity in a \"logical\". A stratigraphic unit is the volume defined by two stratigraphic discontinuity (horizon). Geode can also store information about statigraphic units even if it is not requiered from the implicit modeling (names can be set by default from horizons' name).\n",
    "___\n",
    "In short, INPUTS from feflow are:\n",
    "\n",
    " * A list of names of each stratigrahic discontinuity (hrorizon/unconformity) to be considered.\n",
    " * The \"logical\" sequence of statigraphic discontinuities.\n",
    " * The type of each discontinuity (list to be discuss):\n",
    "   * conformal\n",
    "   * unconformal\n",
    "   * erosion\n",
    "   * baselap\n",
    "___\n",
    "Then the horizon stack is combinned with the structural model containing the definition of fault blocks."
   ]
  },
  {
   "cell_type": "code",
   "execution_count": null,
   "metadata": {},
   "outputs": [],
   "source": [
    "impliciter = geode_implicit.StructuralModelImpliciter( box_structural_model, horizon_stack)\n"
   ]
  },
  {
   "cell_type": "markdown",
   "metadata": {},
   "source": [
    "### Intergrate stratigraphic evidences\n",
    "The link between stratigraphic evidence in the 3D space (points) and the stratigraphic discontinuity defined in the horizons stack is built.\n",
    "Here, we start by creating a point set for each horizon."
   ]
  },
  {
   "cell_type": "code",
   "execution_count": null,
   "metadata": {},
   "outputs": [],
   "source": [
    "# Point set Building \n",
    "\n",
    "#create data points\n",
    "def create_points_set(points):\n",
    "    mesh = og.PointSet3D.create()\n",
    "    mesh_builder = og.PointSetBuilder3D.create(mesh)\n",
    "    mesh_builder.create_vertices(len(points))\n",
    "    id=0\n",
    "    for pt in points:\n",
    "        mesh_builder.set_point(id,pt)\n",
    "        id+=1\n",
    "    return mesh\n",
    "\n",
    "# create horizon evidence  for bottom \n",
    "data_hor_bot = create_points_set([\n",
    "    og.Point3D([5., 6.25, 9.5]),og.Point3D([29.5, 30.3, 7]),\n",
    "    og.Point3D([12.1, 24.9, 9.5]), og.Point3D([27.3, 17.9, 7.5]),\n",
    "    og.Point3D([14, 14.6, 9.]), og.Point3D([17, 21.95, 8]), \n",
    "    og.Point3D([22.14, 14.22, 5]), og.Point3D([17.2, 5.5, 10.5]), \n",
    "    og.Point3D([26.6, 9.27, 9.75]),og.Point3D([23.9, 24.5, 8.5]) ])\n",
    "\n",
    "# save in vtp to be visualized in paraview\n",
    "og.save_point_set3D( data_hor_bot, output(\"data_hor_bot.vtp\") )\n",
    "\n",
    "# create horizon evidence  for bottom \n",
    "data_hor_top = create_points_set([\n",
    "    og.Point3D([8.6, 27.2, 25.5]), og.Point3D([13.6, 15., 24]), \n",
    "    og.Point3D([13.7, 6.55, 23.5]), og.Point3D([23.1, 26.98, 27.5]),\n",
    "    og.Point3D([24.1, 10.2, 25]), og.Point3D([16.3, 25.7, 26]), \n",
    "    og.Point3D([35.1, 34.9, 26.5]) ])\n",
    "\n",
    "# save in vtp to be visualized in paraview\n",
    "og.save_point_set3D( data_hor_top, output(\"data_hor_top.vtp\") )\n"
   ]
  },
  {
   "cell_type": "markdown",
   "metadata": {},
   "source": [
    "![Box Data](./pictures/box_data.png)\n",
    "Then, we link stratigraphic evidences to the corresponding object in the horizon stack.horizons defined in the horizons stack in each block of the structural model."
   ]
  },
  {
   "cell_type": "code",
   "execution_count": null,
   "metadata": {},
   "outputs": [],
   "source": [
    "# The model have only one block then every data are in this block\n",
    "def get_block(impliciter):\n",
    "    for block in impliciter.structural_model().blocks() :\n",
    "        return block\n",
    "    \n",
    "bot_horizon_id = impliciter.horizons_stack().bottom_horizon()\n",
    "impliciter.add_horizon_data_points_in_block( \n",
    "    get_block(impliciter ), \n",
    "    impliciter.horizons_stack().horizon( bot_horizon_id ),\n",
    "    data_hor_bot, 1 )\n",
    "impliciter.add_horizon_data_points_in_block( \n",
    "    get_block(impliciter ), \n",
    "    impliciter.horizons_stack().horizon( \n",
    "        impliciter.horizons_stack().above( impliciter.horizons_stack().above( bot_horizon_id ) ) ),\n",
    "    data_hor_top, 1 )"
   ]
  },
  {
   "cell_type": "markdown",
   "metadata": {},
   "source": [
    "___\n",
    "In short, INPUTS from feflow are:\n",
    " * Evidences point coordinates\n",
    " * Link between each point and its stratigraphic discontinuity (defined in the horizons stack)\n",
    "___\n",
    "\n",
    "### Interpolate implicit function\n",
    "The implicit scalar field is ready to be interpolated in each block."
   ]
  },
  {
   "cell_type": "code",
   "execution_count": null,
   "metadata": {},
   "outputs": [],
   "source": [
    "# Compute implicit function and create the resulting ImplicitStructuralModel\n",
    "impliciter_result = impliciter.build(geode_implicit.StructuralModelImplicitationParameters(3))"
   ]
  },
  {
   "cell_type": "markdown",
   "metadata": {},
   "source": [
    "### Explicit horizons in the structural model\n",
    "Each horizon in the horizons stack can be explicited individualizing stratigraphic units."
   ]
  },
  {
   "cell_type": "code",
   "execution_count": null,
   "metadata": {},
   "outputs": [],
   "source": [
    "# Explicit horizons Output\n",
    "expliciter = geode_implicit.ImplicitStructuralModelHorizonExpliciter( impliciter_result )\n",
    "expliciter.explicit_all_horizons()\n",
    "expliciter_result = expliciter.build()\n",
    "og.save_brep( expliciter_result, output(\"box_with_horizons.vtm\") )"
   ]
  },
  {
   "cell_type": "markdown",
   "metadata": {},
   "source": [
    "![Box horizons](./pictures/box_horizons.png)\n",
    "\n",
    "The resulting geometry can be modified moving evidence points.\n",
    "\n",
    "## Implicit Modeling In A Faulted Model\n",
    "\n",
    "The input structural model only consider one fault, more complex geometry can be used. A temporary limitation is that faults should cross the volume of interest completly. \n",
    "\n",
    "![input structural model](./pictures/mss_in.png)\n",
    "\n",
    "### Load Faulted Structural Model.. Build Impliciter Tool."
   ]
  },
  {
   "cell_type": "code",
   "execution_count": null,
   "metadata": {},
   "outputs": [],
   "source": [
    "def horizons_stack():\n",
    "    horizons_names = [ \"hor_bot\", \"hor_top\" ]\n",
    "    su_names = [ \"su_bot\", \"su_mid\", \"su_top\" ]\n",
    "    return ogg.horizons_stack_from_name_list_3d( horizons_names, su_names )\n",
    "\n",
    "# load structural model with two fault blocks.\n",
    "structural_model = ogg.load_structural_model( input(\"mss.og_strm\") )\n",
    "#save to vtm for a visualization in paraview\n",
    "og.save_brep(structural_model,output(\"mss.vtm\"))    \n",
    "\n",
    "# Create StructuralModelImpliciter with a StructuralModel and\n",
    "# HorizonsStack\n",
    "# Other possibility: create with just StructuralModel and modify\n",
    "# HorizonsStack afterwards through the horizons_stack_builder function.\n",
    "impliciter = geode_implicit.StructuralModelImpliciter( ogg.load_structural_model( input(\"mss.og_strm\") ), horizons_stack())\n",
    "# Create and set data to use\n",
    "impliciter_model = impliciter.structural_model()\n",
    "impliciter_stack = impliciter.horizons_stack()"
   ]
  },
  {
   "cell_type": "markdown",
   "metadata": {},
   "source": [
    "### Create data points..."
   ]
  },
  {
   "cell_type": "code",
   "execution_count": null,
   "metadata": {},
   "outputs": [],
   "source": [
    "def create_points_set(points):\n",
    "    mesh = og.PointSet3D.create()\n",
    "    mesh_builder = og.PointSetBuilder3D.create(mesh)\n",
    "    mesh_builder.create_vertices(len(points))\n",
    "    id=0\n",
    "    for pt in points:\n",
    "        mesh_builder.set_point(id,pt)\n",
    "        id+=1\n",
    "    return mesh\n",
    "\n",
    "#create data related to the bottom horizon in the lower fault block\n",
    "bot_bot_data = create_points_set([\n",
    "    og.Point3D([ -5000, -3102, -1499 ]), og.Point3D([ -5000, 0, -1499 ]),\n",
    "    og.Point3D([ -5000, 5000, -1499 ]), og.Point3D([ 0, -3102, -1499 ]),\n",
    "    og.Point3D([ 0, 0, -1499 ]), og.Point3D([ 0, 5200, -1499 ]),\n",
    "    og.Point3D([ 7000, -3102, -1499 ]), og.Point3D([ 7000, 0, -1499 ]), \n",
    "    og.Point3D([ 7000, 5200, -1499 ]) ])\n",
    "og.save_point_set3D( bot_bot_data, output(\"bot_bot_data.vtp\") )\n",
    "\n",
    "#create data related to the bottom horizon in the upper fault block\n",
    "bot_top_data = create_points_set([\n",
    "    og.Point3D([ -5000, -3102, 955 ]), og.Point3D([ -5000, 0, 955 ]),\n",
    "    og.Point3D([ -5000, 5000, 955 ]), og.Point3D([ 2000, -3102, 455 ]),\n",
    "    og.Point3D([ 2000, 0, 455 ]), og.Point3D([ 2000, 5200, 455 ]) ])\n",
    "og.save_point_set3D( bot_top_data, output(\"bot_top_data.vtp\") )\n",
    "\n",
    "#create data related to the top horizon in the lower fault block\n",
    "top_bot_data = create_points_set([\n",
    "    og.Point3D([ 9000, -3102, 405 ]), og.Point3D([ 9000, 0, 455 ]),\n",
    "    og.Point3D([ 9000, 5000, 405 ]), og.Point3D([ 2000, -3102, 1099 ]),\n",
    "    og.Point3D([ 2000, 0, 1099 ]), og.Point3D([ 2000, 5200, 1099 ]) ])\n",
    "og.save_point_set3D( top_bot_data, output(\"top_bot_data.vtp\") )\n",
    "\n",
    "#create data related to the top horizon in the upper fault block\n",
    "top_top_data = create_points_set([\n",
    "    og.Point3D([ -5000, -3102, 2800 ]), og.Point3D([ -5000, 0, 2800 ]),\n",
    "    og.Point3D([ -5000, 5000, 2800 ]), og.Point3D([ 0, -3102, 2800 ]),\n",
    "    og.Point3D([ 0, 0, 2800 ]), og.Point3D([ 0, 5200, 2800 ]), \n",
    "    og.Point3D([ 7000, -3102, 2800 ]), og.Point3D([ 7000, 0, 2800 ]),\n",
    "    og.Point3D([ 7000, 5200, 2800 ]) ])\n",
    "og.save_point_set3D( top_top_data, output(\"top_top_data.vtp\") )"
   ]
  },
  {
   "cell_type": "markdown",
   "metadata": {},
   "source": [
    "### ... to link with the horizons stack."
   ]
  },
  {
   "cell_type": "code",
   "execution_count": null,
   "metadata": {},
   "outputs": [],
   "source": [
    "# On bottom block in the model\n",
    "bot_block_id = og.uuid( \"00000000-a8b7-4ef1-8000-0000146ebd41\" )\n",
    "bot_block = impliciter_model.block( bot_block_id )\n",
    "bot_horizon_id = impliciter_stack.bottom_horizon()\n",
    "impliciter.add_horizon_data_points_in_block( bot_block, impliciter_stack.horizon( bot_horizon_id ), bot_bot_data, 1 )\n",
    "top_horizon = impliciter_stack.horizon( impliciter_stack.above( impliciter_stack.above( bot_horizon_id ) ) )\n",
    "impliciter.add_horizon_data_points_in_block( bot_block, top_horizon, bot_top_data, 1 )\n",
    "# On the top block in the model\n",
    "top_block_id = og.uuid( \"00000000-0dd3-4b37-8000-000043469436\" )\n",
    "top_block = impliciter_model.block( top_block_id )\n",
    "impliciter.add_horizon_data_points_in_block( top_block, impliciter_stack.horizon( bot_horizon_id ), top_bot_data, 1 )\n",
    "impliciter.add_horizon_data_points_in_block( top_block, top_horizon, top_top_data, 1 )"
   ]
  },
  {
   "cell_type": "markdown",
   "metadata": {},
   "source": [
    "### Build scalar field and explicit horizons."
   ]
  },
  {
   "cell_type": "code",
   "execution_count": null,
   "metadata": {},
   "outputs": [],
   "source": [
    "# Compute implicit function and create the resulting ImplicitStructuralModel\n",
    "impliciter_result = impliciter.build(geode_implicit.StructuralModelImplicitationParameters(3))\n",
    "# Explicit horizons Output\n",
    "expliciter = geode_implicit.ImplicitStructuralModelHorizonExpliciter( impliciter_result )\n",
    "expliciter.explicit_all_horizons()\n",
    "expliciter_result = expliciter.build()\n",
    "og.save_brep( expliciter_result, output(\"mss_from_implicit_modeling.vtm\") )"
   ]
  }
 ],
 "metadata": {
  "kernelspec": {
   "display_name": "venv",
   "language": "python",
   "name": "python3"
  },
  "language_info": {
   "codemirror_mode": {
    "name": "ipython",
    "version": 3
   },
   "file_extension": ".py",
   "mimetype": "text/x-python",
   "name": "python",
   "nbconvert_exporter": "python",
   "pygments_lexer": "ipython3",
   "version": "3.11.0"
  }
 },
 "nbformat": 4,
 "nbformat_minor": 4
}
