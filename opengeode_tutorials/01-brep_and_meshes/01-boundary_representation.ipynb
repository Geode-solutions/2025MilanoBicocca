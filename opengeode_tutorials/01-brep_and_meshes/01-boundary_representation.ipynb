{
 "cells": [
  {
   "cell_type": "markdown",
   "metadata": {},
   "source": [
    "# Meshes and Boundary Representations\n",
    "\n",
    "Meshes provide spatial discretization which is the corner stone of any numerical representation.\n",
    "The shape and the size of cells need to be carefully chosen according to the objective the user wants to reach.\n",
    "\n",
    "In the particular case of building geological model to investigate its physical response, we need a mesh \n",
    " 1. capturing the geometry of large rock heterogeneities,\n",
    " 1. discretizing elements according to the size of the representative elementary volume of rock properties,\n",
    " 1. permitting a precise evaluation of the physical response where it is needed, \n",
    " 1. presenting cell shapes adapted to method chosen for the numerical computation.\n",
    "\n",
    "A mesh is a consistent set of joined elements representing a natural \"object\". Every mesher need a detailled numerical representation of the shape and the topology of the object boundaries (internal & external). This is known as \"watertight boundary representation\".\n",
    "\n",
    "This tutorial illustrates the differences between [meshes](https://docs.geode-solutions.com/guides/meshes.html) and [models](https://docs.geode-solutions.com/guides/models.html) (or boundary representations). \n",
    "\n",
    "We will explore and use the OpenGeode data model to create and edit 2D boundary representation, named Section.\n",
    "\n",
    "At the end, you will be able to \n",
    " * create and manipulate meshes and boundary representations,\n",
    " * test the validity of boundary representations, \n",
    " * use boundary representation to meshes sealed domains."
   ]
  },
  {
   "cell_type": "code",
   "execution_count": null,
   "metadata": {},
   "outputs": [],
   "source": [
    "import opengeode as og\n",
    "import opengeode_io \n",
    "import opengeode_inspector as inspector\n",
    "import geode_common as common\n",
    "import geode_simplex as simplex\n",
    "\n",
    "\n",
    "print(\"Geode module imported!\")\n",
    "\n",
    "# define various utilities functions\n",
    "import os\n",
    "def input(path):\n",
    "  return os.path.join(\"data/\",path) \n",
    "\n",
    "def create_folder_if_does_not_exists(path):\n",
    "  if( not os.path.isdir(path)):\n",
    "    os.makedirs(path)\n",
    "\n",
    "def output(path):\n",
    "  result_path = \"results/\"\n",
    "  create_folder_if_does_not_exists(result_path)\n",
    "  return os.path.join(result_path,path)"
   ]
  },
  {
   "cell_type": "markdown",
   "metadata": {},
   "source": [
    "## Geometrical impact of remeshing on 2D surface.\n",
    "\n",
    "This fist part illustrates potential geometric deformation due to unconstrained changes performed during a remeshing algorithm.\n",
    "\n",
    "The initial model can be loaded from the data folder."
   ]
  },
  {
   "cell_type": "code",
   "execution_count": null,
   "metadata": {},
   "outputs": [],
   "source": [
    "# load section\n",
    "section = og.load_section(input(\"01_single_surface_and_line.og_sctn\"))"
   ]
  },
  {
   "cell_type": "markdown",
   "metadata": {},
   "source": [
    "The section is composed by \n",
    " * a single line represented by a closed edged curve with 4 edges \n",
    " * a single surface represented by a triangulated surface with two triangles."
   ]
  },
  {
   "cell_type": "code",
   "execution_count": null,
   "metadata": {},
   "outputs": [],
   "source": [
    "# define print section description\n",
    "def print_section_components(section) : \n",
    "    bb =og.BoundingBox2D()\n",
    "    bb.add_box(section.bounding_box())\n",
    "    print(\"The section is centered on (\" + \n",
    "          str(bb.center().value(0))+\" , \"+str(bb.center().value(1)) + \n",
    "          \"). It is a \"+str(bb.diagonal().value(0))+\"m by \"+\n",
    "          str(bb.diagonal().value(1))+\n",
    "          \"m section with: \")\n",
    "    print(\" * \"+ str(section.nb_corners()) +\" corners\" )\n",
    "    for corner in section.corners():\n",
    "        print(\"  - corner \"+ corner.id().string()+\" have \" + str(corner.mesh().nb_vertices())+\" vertices.\") \n",
    "    print(\" * \"+ str(section.nb_lines()) +\" lines\" )\n",
    "    for line in section.lines():\n",
    "        print(\"  - line \"+ line.id().string()+\" have \" + str(line.mesh().nb_edges())+\" edges.\") \n",
    "    print(\" * \"+ str(section.nb_surfaces()) +\" surfaces\" )\n",
    "    for surface in section.surfaces():\n",
    "        print(\"  - surface \"+ surface.id().string()+\" have \" + str(surface.mesh().nb_polygons())+\" triangles.\") \n",
    "\n",
    "# print section description\n",
    "print_section_components(section)"
   ]
  },
  {
   "cell_type": "markdown",
   "metadata": {},
   "source": [
    "A remeshing of the section will :\n",
    " 1. modify the number of edges in the edged curve and the number of triangles in the triangulated surface.\n",
    " 1. preserve the topology of both the line and the surface "
   ]
  },
  {
   "cell_type": "code",
   "execution_count": null,
   "metadata": {},
   "outputs": [],
   "source": [
    "# set up parameters for homogeneous remeshing\n",
    "edge_length = 3\n",
    "cst_metric = common.ConstantMetric2D(edge_length)\n",
    "\n",
    "# create and return the remeshed section\n",
    "remeshed_section = simplex.section_simplex_remesh(section,cst_metric)[0]\n",
    "\n",
    "# print description of the remeshed section\n",
    "print_section_components(remeshed_section)"
   ]
  },
  {
   "cell_type": "markdown",
   "metadata": {},
   "source": [
    "The remeshed section can be save in a vtm file format for an inspection in paraview."
   ]
  },
  {
   "cell_type": "code",
   "execution_count": null,
   "metadata": {},
   "outputs": [],
   "source": [
    "# save section for paraview\n",
    "og.save_section(remeshed_section, output(\"01_remeshed_surface.vtm\"))\n",
    "# save section for Vease\n",
    "og.save_section(remeshed_section, output(\"01_remeshed_surface.og_sctn\"))"
   ]
  },
  {
   "cell_type": "markdown",
   "metadata": {},
   "source": [
    "<img src=\"./pictures/surface_remesh.png\" alt=\"image\" width=\"50%\" height=\"auto\">\n",
    "\n",
    "The topological information stored ininital section is not enough to recover a satisfying line and surface geometry after remeshing. \n",
    "\n",
    "Several edge_length length values can be investigated. The value need to be strictly positive (0 <) and lower or equal to section extend (<= 10).\n",
    "\n",
    "Acording to the edge length targetted by the remeshing algorithm the geometry is more or less approximated but the topology is always preserved.\n",
    "\n",
    "## Create section with the minimal topological information recovert the initial geometry.\n",
    "\n",
    "Building the following section is a three step workflow:\n",
    " 1. build model components and their topological relationships,\n",
    " 1. build the geometry (meshes) of the model components,\n",
    " 1. build unique vertex identifier to link the geometry and the topology.\n",
    "\n",
    "![section data model](pictures/section_data_model.png)"
   ]
  },
  {
   "cell_type": "code",
   "execution_count": null,
   "metadata": {},
   "outputs": [],
   "source": [
    "# create an empty section and its builder \n",
    "section = og.Section()\n",
    "builder = og.SectionBuilder(section)\n",
    "\n",
    "print_section_components(section)"
   ]
  },
  {
   "cell_type": "markdown",
   "metadata": {},
   "source": [
    "The next step is to create section components with their consitent topological relations\n",
    " * 4 corners (a corner should be a line boundary)\n",
    " * 4 lines (a line is a surface boundary and is incident corners)\n",
    " * 1 surface (a surface is incident to a line)\n",
    "\n",
    "![section data model component](pictures/section_data_model_component.png)\n",
    "\n",
    "Note that: \n",
    " * line can also be internal to a surface\n",
    " * in 3D a surface is a boundary of block \n",
    " * in 3D a line and a surface can be internal to a block"
   ]
  },
  {
   "cell_type": "code",
   "execution_count": null,
   "metadata": {},
   "outputs": [],
   "source": [
    "# create a line bounded by two corners\n",
    "def add_line(section, builder, corner_id0, corner_id1):\n",
    "    line_id = builder.add_line()\n",
    "    line = section.line(line_id)\n",
    "    builder.add_corner_line_boundary_relationship(section.corner(corner_id0), line)\n",
    "    builder.add_corner_line_boundary_relationship(section.corner(corner_id1), line)\n",
    "    return line_id\n",
    "\n",
    "# create a surface bounded by lines\n",
    "def add_surface(section, builder, line_ids):\n",
    "    surface_id = builder.add_surface()\n",
    "    surface = section.surface(surface_id)\n",
    "    for line_id in line_ids:\n",
    "        builder.add_line_surface_boundary_relationship(section.line(line_id), surface)\n",
    "    return surface_id\n",
    "\n",
    "# create corner\n",
    "corner1 = builder.add_corner()\n",
    "corner2 = builder.add_corner()\n",
    "corner3 = builder.add_corner()\n",
    "corner4 = builder.add_corner()\n",
    "\n",
    "# create line\n",
    "line1 =  add_line(section,builder,corner1,corner2)\n",
    "line2 =  add_line(section,builder,corner2,corner3)\n",
    "line3 =  add_line(section,builder,corner3,corner4)\n",
    "line4 =  add_line(section,builder,corner4,corner1)\n",
    "\n",
    "# create surface\n",
    "surface = add_surface(section, builder, [line1,line2,line3,line4])\n",
    "\n",
    "#print section description\n",
    "print_section_components(section)"
   ]
  },
  {
   "cell_type": "markdown",
   "metadata": {},
   "source": [
    "WARNING: each execution of the previous code will create new model components!!\n",
    "\n",
    "Each model component will now be associated to its geometrical representation:\n",
    " * one vertex for each corner\n",
    " * one edged curve for each line\n",
    " * one triangulated surface for each surface \n",
    "\n",
    "![section data mesh component](pictures/section_data_mesh_component.png)"
   ]
  },
  {
   "cell_type": "code",
   "execution_count": null,
   "metadata": {},
   "outputs": [],
   "source": [
    "def create_line_mesh(builder, line_id, point0, point1):\n",
    "    line_builder = builder.line_mesh_builder(line_id)\n",
    "    line_builder.create_point(point0)\n",
    "    line_builder.create_point(point1)\n",
    "    line_builder.create_edge_with_vertices(0,1)\n",
    "\n",
    "def create_surface_mesh(section, builder, surface_id, points):\n",
    "    og.convert_section_surface_meshes_into_triangulated_surfaces(section)\n",
    "    surface_builder = builder.surface_mesh_builder(surface_id)\n",
    "    for pt in points:\n",
    "        surface_builder.create_point(pt)\n",
    "    surface_builder.create_polygon([0,1,2])\n",
    "    surface_builder.create_polygon([0,2,3])\n",
    "    surface_builder.compute_polygon_adjacencies()\n",
    "\n",
    "# create corner vertex\n",
    "pt1 = og.Point2D([0.,0.])\n",
    "pt2 = og.Point2D([10.,0.])\n",
    "pt3 = og.Point2D([10.,10.])\n",
    "pt4 = og.Point2D([0.,10.])\n",
    "\n",
    "# create corner mesh\n",
    "builder.corner_mesh_builder(corner1).create_point(pt1)\n",
    "builder.corner_mesh_builder(corner2).create_point(pt2)\n",
    "builder.corner_mesh_builder(corner3).create_point(pt3)\n",
    "builder.corner_mesh_builder(corner4).create_point(pt4)\n",
    "\n",
    "# create line mesh\n",
    "create_line_mesh(builder, line1, pt1, pt2)\n",
    "create_line_mesh(builder, line2, pt2, pt3)\n",
    "create_line_mesh(builder, line3, pt3, pt4)\n",
    "create_line_mesh(builder, line4, pt4, pt1)\n",
    "\n",
    "# create surface mesh\n",
    "create_surface_mesh(section, builder, surface, [pt1, pt2, pt3, pt4])\n",
    "\n",
    "print_section_components(section)"
   ]
  },
  {
   "cell_type": "markdown",
   "metadata": {},
   "source": [
    "WARNING: each execution of the previous code will create new mesh components!! In this case you will have colocated points and elements.\n",
    "\n",
    "The last step is to setup unique vertex identifier to ensure that a geometrical update made on any model component can be consistently propagated to others.\n",
    "\n",
    "![section data unique vertex](pictures/section_data_unique_vertex.png)"
   ]
  },
  {
   "cell_type": "code",
   "execution_count": null,
   "metadata": {},
   "outputs": [],
   "source": [
    "# create lower left unique vertex\n",
    "model_vertex_id1 = builder.create_unique_vertex()\n",
    "builder.set_unique_vertex(og.ComponentMeshVertex(section.corner(corner1).component_id(), 0), model_vertex_id1)\n",
    "builder.set_unique_vertex(og.ComponentMeshVertex(section.line(line1).component_id(), 0), model_vertex_id1)\n",
    "builder.set_unique_vertex(og.ComponentMeshVertex(section.line(line4).component_id(), 1), model_vertex_id1)\n",
    "builder.set_unique_vertex(og.ComponentMeshVertex(section.surface(surface).component_id(), 0), model_vertex_id1)\n",
    "\n",
    "# create upper left unique vertex\n",
    "model_vertex_id2 = builder.create_unique_vertex()\n",
    "builder.set_unique_vertex(og.ComponentMeshVertex(section.corner(corner2).component_id(), 0), model_vertex_id2)\n",
    "builder.set_unique_vertex(og.ComponentMeshVertex(section.line(line2).component_id(), 0), model_vertex_id2)\n",
    "builder.set_unique_vertex(og.ComponentMeshVertex(section.line(line1).component_id(), 1), model_vertex_id2)\n",
    "builder.set_unique_vertex(og.ComponentMeshVertex(section.surface(surface).component_id(), 1), model_vertex_id2)\n",
    "\n",
    "# create upper right unique vertex\n",
    "model_vertex_id3 = builder.create_unique_vertex()\n",
    "builder.set_unique_vertex(og.ComponentMeshVertex(section.corner(corner3).component_id(), 0), model_vertex_id3)\n",
    "builder.set_unique_vertex(og.ComponentMeshVertex(section.line(line3).component_id(), 0), model_vertex_id3)\n",
    "builder.set_unique_vertex(og.ComponentMeshVertex(section.line(line2).component_id(), 1), model_vertex_id3)\n",
    "builder.set_unique_vertex(og.ComponentMeshVertex(section.surface(surface).component_id(), 2), model_vertex_id3)\n",
    "\n",
    "# create lower right unique vertex\n",
    "model_vertex_id4 = builder.create_unique_vertex()\n",
    "builder.set_unique_vertex(og.ComponentMeshVertex(section.corner(corner4).component_id(), 0), model_vertex_id4)\n",
    "builder.set_unique_vertex(og.ComponentMeshVertex(section.line(line4).component_id(), 0), model_vertex_id4)\n",
    "builder.set_unique_vertex(og.ComponentMeshVertex(section.line(line3).component_id(), 1), model_vertex_id4)\n",
    "builder.set_unique_vertex(og.ComponentMeshVertex(section.surface(surface).component_id(), 3), model_vertex_id4)"
   ]
  },
  {
   "cell_type": "markdown",
   "metadata": {},
   "source": [
    "The OpenGeode ecosystem provides inspection tools to check the topological and geometrical validity of boundary representations and meshes.\n",
    "\n",
    "It is also avaible as [free cloud service](https://geode-solutions.com/tools)."
   ]
  },
  {
   "cell_type": "code",
   "execution_count": null,
   "metadata": {},
   "outputs": [],
   "source": [
    "#inspector\n",
    "section_inspector = inspector.SectionInspector(section)\n",
    "result = section_inspector.inspect_section()\n",
    "print(result.string())\n",
    "\n",
    "# save 2D BRep for a potential inspection online\n",
    "og.save_section(section, output(\"01_section_valid.og_sctn\"))"
   ]
  },
  {
   "cell_type": "markdown",
   "metadata": {},
   "source": [
    "Once you created a valid section, you can perform an homogeneous remeshing with various edge_length values and visualize results with paraview."
   ]
  },
  {
   "cell_type": "code",
   "execution_count": null,
   "metadata": {},
   "outputs": [],
   "source": [
    "\n",
    "# set up parameters for homogeneous remeshing\n",
    "edge_length = 3\n",
    "cst_metric = common.ConstantMetric2D(edge_length)\n",
    "\n",
    "# create and return the remeshed section\n",
    "remeshed_section = simplex.section_simplex_remesh(section,cst_metric)[0]\n",
    "og.save_section(remeshed_section, output(\"01_remeshed_section_valid.og_sctn\"))\n",
    "\n",
    "# print description of the remeshed section\n",
    "print_section_components(remeshed_section)"
   ]
  },
  {
   "cell_type": "markdown",
   "metadata": {},
   "source": [
    "Similar tutorial can be done in 3d to build a BRep.\n",
    "\n",
    "Have a look [here](https://github.com/Geode-solutions/OpenGeode/blob/master/examples/layer_cake.ipynb) to learn how to build a layer cake BRep."
   ]
  }
 ],
 "metadata": {
  "kernelspec": {
   "display_name": "venv",
   "language": "python",
   "name": "python3"
  },
  "language_info": {
   "codemirror_mode": {
    "name": "ipython",
    "version": 3
   },
   "file_extension": ".py",
   "mimetype": "text/x-python",
   "name": "python",
   "nbconvert_exporter": "python",
   "pygments_lexer": "ipython3",
   "version": "3.11.0"
  }
 },
 "nbformat": 4,
 "nbformat_minor": 2
}
