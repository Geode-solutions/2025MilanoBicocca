{
 "cells": [
  {
   "cell_type": "markdown",
   "metadata": {},
   "source": [
    "# Check install"
   ]
  },
  {
   "cell_type": "code",
   "execution_count": null,
   "metadata": {},
   "outputs": [],
   "source": [
    "import opengeode as og \n",
    "import opengeode_geosciences as ogg\n",
    "import geode_numerics\n",
    "import geode_implicit \n",
    "import geode_explicit\n",
    "import geode_simplex\n",
    "\n",
    "print(\"Hello Geode world!\")\n",
    "\n",
    "bbox_min = og.Point3D([0, 0, 0])\n",
    "bbox_max = og.Point3D([10, 10, 10])\n",
    "print(\n",
    "    \"Two points have been created: (\"\n",
    "    + str(bbox_min.value(0))\n",
    "    + \",\"\n",
    "    + str(bbox_min.value(1))\n",
    "    + \",\"\n",
    "    + str(bbox_min.value(2))\n",
    "    + \") and (\"\n",
    "    + str(bbox_max.value(0))\n",
    "    + \",\"\n",
    "    + str(bbox_max.value(1))\n",
    "    + \",\"\n",
    "    + str(bbox_max.value(2))\n",
    "    + \")\"\n",
    ")\n",
    "\n",
    "bbox = og.BoundingBox3D()\n",
    "bbox.add_point(bbox_min)\n",
    "bbox.add_point(bbox_max)\n",
    "center = bbox.center()\n",
    "print(\n",
    "    \"The aligned bounding box defined is centered arround (\"\n",
    "    + str(center.value(0))\n",
    "    + \",\"\n",
    "    + str(center.value(1))\n",
    "    + \",\"\n",
    "    + str(center.value(2))\n",
    "    + \")\"\n",
    ")\n",
    "print(\"Ciao!\")"
   ]
  }
 ],
 "metadata": {
  "kernelspec": {
   "display_name": "venv",
   "language": "python",
   "name": "python3"
  },
  "language_info": {
   "codemirror_mode": {
    "name": "ipython",
    "version": 3
   },
   "file_extension": ".py",
   "mimetype": "text/x-python",
   "name": "python",
   "nbconvert_exporter": "python",
   "pygments_lexer": "ipython3",
   "version": "3.11.0"
  }
 },
 "nbformat": 4,
 "nbformat_minor": 2
}
