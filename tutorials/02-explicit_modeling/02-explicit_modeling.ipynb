{
 "cells": [
  {
   "cell_type": "markdown",
   "metadata": {},
   "source": [
    "# Explicit Modeling\n",
    "\n",
    "Create a valid boundary representation with the necessary geometrical and topological information can be a complex and time consuming task.\n",
    "Geode-solutions provides key functionalities in a module named [Geode-Explicit](https://docs.geode-solutions.com/references/geode-explicit/).\n",
    "\n",
    "The module allows to build \"valid\" boudary representations directly from a 3D surfaces (or 2D lines) representing boundaries and internal structures of a model.\n",
    "\n",
    "It involves a robust and inovative technology handling numerical precision error during the computation intersections between lines and surfaces.\n",
    "\n",
    "In this tutorial, you will learn to build easily boundary representations using the Geode-Explicit python api.\n",
    "\n",
    "At the end, you will be able to \n",
    " * build a section from a set of 2D edged curves\n",
    " * build a BRep from a set of triangulated surfaces"
   ]
  },
  {
   "cell_type": "code",
   "execution_count": null,
   "metadata": {},
   "outputs": [],
   "source": [
    "import opengeode as og \n",
    "import opengeode_io \n",
    "import opengeode_inspector as inspector\n",
    "import geode_explicit as explicit\n",
    "import geode_common as common\n",
    "import geode_simplex as simplex\n",
    "\n",
    "print(\"Geode module imported!\")\n",
    "delta = 0.001\n",
    "\n",
    "# define various utilities functions\n",
    "import os\n",
    "def input(path):\n",
    "  return os.path.join(\"data/\",path) \n",
    "\n",
    "def create_folder_if_does_not_exists(path):\n",
    "  if( not os.path.isdir(path)):\n",
    "    os.makedirs(path)\n",
    "\n",
    "def output(path):\n",
    "  result_path = \"results/\"\n",
    "  create_folder_if_does_not_exists(result_path)\n",
    "  return os.path.join(result_path,path)\n",
    "\n",
    "# define print section description\n",
    "def print_section_components(section) : \n",
    "    bb =og.BoundingBox2D()\n",
    "    bb.add_box(section.bounding_box())\n",
    "    print(\"The section is centered on (\" + \n",
    "          str(bb.center().value(0))+\" , \"+str(bb.center().value(1)) + \n",
    "          \"). It is a \"+str(bb.diagonal().value(0))+\"m by \"+\n",
    "          str(bb.diagonal().value(1))+\n",
    "          \"m section with: \")\n",
    "    print(\" * \"+ str(section.nb_corners()) +\" corners\" )\n",
    "    for corner in section.corners():\n",
    "        print(\"  - corner \"+ corner.id().string()+\" have \" + str(corner.mesh().nb_vertices())+\" vertices.\") \n",
    "    print(\" * \"+ str(section.nb_lines()) +\" lines\" )\n",
    "    for line in section.lines():\n",
    "        print(\"  - line \"+ line.id().string()+\" have \" + str(line.mesh().nb_edges())+\" edges.\") \n",
    "    print(\" * \"+ str(section.nb_surfaces()) +\" surfaces\" )\n",
    "    for surface in section.surfaces():\n",
    "        print(\"  - surface \"+ surface.id().string()+\" have \" + str(surface.mesh().nb_polygons())+\" triangles.\") \n",
    "\n",
    "# define print section description\n",
    "def print_brep_components(brep) : \n",
    "    bb =og.BoundingBox3D()\n",
    "    bb.add_box(brep.bounding_box())\n",
    "    print(\"The BRep is centered on (\" + \n",
    "          str(bb.center().value(0))+\" , \"+str(bb.center().value(1)) + \n",
    "          \"). It is a \"+str(bb.diagonal().value(0))+\"m by \"+\n",
    "          str(bb.diagonal().value(1))+\n",
    "          \"m BRep with: \")\n",
    "    print(\" * \"+ str(brep.nb_corners()) +\" corners\" )\n",
    "    for corner in brep.corners():\n",
    "        print(\"  - corner \"+ corner.id().string()+\" have \" + str(corner.mesh().nb_vertices())+\" vertices.\") \n",
    "    print(\" * \"+ str(brep.nb_lines()) +\" lines\" )\n",
    "    for line in brep.lines():\n",
    "        print(\"  - line \"+ line.id().string()+\" have \" + str(line.mesh().nb_edges())+\" edges.\") \n",
    "    print(\" * \"+ str(brep.nb_surfaces()) +\" surfaces\" )\n",
    "    for surface in brep.surfaces():\n",
    "        print(\"  - surface \"+ surface.id().string()+\" have \" + str(surface.mesh().nb_polygons())+\" triangles.\") \n",
    "    print(\" * \"+ str(brep.nb_blocks()) +\" blocks\" )\n",
    "    for block in brep.blocks():\n",
    "        print(\"  - block \"+ block.id().string()+\" have \" + str(block.mesh().nb_polyhedra())+\" tetrahedra.\") "
   ]
  },
  {
   "cell_type": "markdown",
   "metadata": {},
   "source": [
    "## Section from edged curves\n",
    "\n",
    "We want to build a faulted section defined as follow:\n",
    "\n",
    "![section from curves](pictures/section_curves.png)\n",
    "\n",
    "The first step is to define the geometry of section internal and external boundaries by creating edged curves from vertices."
   ]
  },
  {
   "cell_type": "code",
   "execution_count": null,
   "metadata": {},
   "outputs": [],
   "source": [
    "# Create edged curve from points \n",
    "def create_edged_curve(points):\n",
    "    curve = og.EdgedCurve2D.create()\n",
    "    builder = og.EdgedCurveBuilder2D.create(curve)\n",
    "    v0 = builder.create_point(points[0])\n",
    "    for point in points[1::]:\n",
    "        v1 = builder.create_point(point)\n",
    "        builder.create_edge_with_vertices(v0,v1)\n",
    "        v0 = v1\n",
    "    return curve\n",
    "\n",
    "# box geometry\n",
    "B1 = og.Point2D([0,10])\n",
    "B2 = og.Point2D([20,10])\n",
    "B3 = og.Point2D([20,0])\n",
    "B4 = og.Point2D([0,0])\n",
    "top_B1B2 = create_edged_curve([B1,B2])\n",
    "bot_B3B4 = create_edged_curve([B3,B4])\n",
    "left_B4B1 = create_edged_curve([B4,B1])\n",
    "right_B3B2 = create_edged_curve([B3,B2])\n",
    "\n",
    "# horizons geometry\n",
    "hor_H1H2 = create_edged_curve([og.Point2D([0,6]),og.Point2D([10-delta,6])])\n",
    "hor_H3H4 = create_edged_curve([og.Point2D([6+delta,3]),og.Point2D([20,3])])\n",
    "\n",
    "# fault geometry\n",
    "fault_pts = [og.Point2D([0,0.5]), og.Point2D([1,1]), og.Point2D([6,3]),\n",
    "             og.Point2D([8,4]), og.Point2D([10,6]), og.Point2D([13,10])]\n",
    "fault = create_edged_curve(fault_pts)\n",
    "\n",
    "# save edged curves to be visualized in paraview\n",
    "og.save_edged_curve2D(top_B1B2,output(\"top_B1B2.vtp\"))\n",
    "og.save_edged_curve2D(bot_B3B4,output(\"bot_B3B4.vtp\"))\n",
    "og.save_edged_curve2D(left_B4B1,output(\"left_B4B1.vtp\"))\n",
    "og.save_edged_curve2D(right_B3B2,output(\"right_B3B2.vtp\"))\n",
    "og.save_edged_curve2D(hor_H1H2,output(\"hor_H1H2.vtp\"))\n",
    "og.save_edged_curve2D(hor_H3H4,output(\"hor_H3H4.vtp\"))\n",
    "og.save_edged_curve2D(fault,output(\"fault.vtp\"))"
   ]
  },
  {
   "cell_type": "markdown",
   "metadata": {},
   "source": [
    "The geode-explicit module is used to:\n",
    " 1. compute intersections between edged curves,\n",
    " 1. create corners, lines and surfaces,\n",
    " 1. define consistent relationships between corners, lines and surfaces,\n",
    " 1. define meshes for corners, lines and surfaces,\n",
    " 1. manage unique vertex identifier."
   ]
  },
  {
   "cell_type": "code",
   "execution_count": null,
   "metadata": {},
   "outputs": [],
   "source": [
    "voi = og.BoundingBox2D()\n",
    "voi.add_point(og.Point2D([0,0]))\n",
    "voi.add_point(og.Point2D([20,10]))\n",
    "\n",
    "modeler = explicit.SectionExplicitModeler(voi)\n",
    "modeler.add_curve(top_B1B2)\n",
    "modeler.add_curve(bot_B3B4)\n",
    "modeler.add_curve(left_B4B1)\n",
    "modeler.add_curve(right_B3B2)\n",
    "modeler.add_curve(hor_H1H2)\n",
    "modeler.add_curve(hor_H3H4)\n",
    "modeler.add_curve(fault)\n",
    "\n",
    "section = modeler.build()\n",
    "print_section_components(section)"
   ]
  },
  {
   "cell_type": "markdown",
   "metadata": {},
   "source": [
    "The validity of the section created by the section explicit modeler is guaranteed.\n",
    "\n",
    "This can be verified using the inspector functionalities."
   ]
  },
  {
   "cell_type": "code",
   "execution_count": null,
   "metadata": {},
   "outputs": [],
   "source": [
    "# inspector\n",
    "section_inspector = inspector.SectionInspector(section)\n",
    "result = section_inspector.inspect_section()\n",
    "print(result.string())\n",
    "\n",
    "# save for online inspection\n",
    "og.save_section(section,output(\"02-section.og_sctn\"))"
   ]
  },
  {
   "cell_type": "code",
   "execution_count": null,
   "metadata": {},
   "outputs": [],
   "source": [
    "# save section to be visualized in paraview\n",
    "og.save_section(section,output(\"02-section.vtm\"))"
   ]
  },
  {
   "cell_type": "markdown",
   "metadata": {},
   "source": [
    "\n",
    "However, the section only define two watertight area instead of the four expected. \n",
    "\n",
    "![Bad section](pictures/bad_section.png)\n",
    "\n",
    "This is due to a lack of effective intersections between the horizons and the fault."
   ]
  },
  {
   "cell_type": "code",
   "execution_count": null,
   "metadata": {},
   "outputs": [],
   "source": [
    "# load section (eventually)\n",
    "#section = og.load_section(input(\"02-bad_section.og_sctn\"))\n",
    "#section = og.load_section(input(\"02-watertight_section.og_sctn\"))\n",
    "\n",
    "#remesh\n",
    "# set up parameters for homogeneous remeshing\n",
    "edge_length = 3\n",
    "cst_metric = common.ConstantMetric2D(edge_length)\n",
    "\n",
    "# create and return the remeshed section\n",
    "remeshed_section = simplex.simplex_remesh_section(section,cst_metric)[0]\n",
    "\n",
    "og.save_section(remeshed_section,output(\"02-remeshed_section.vtm\"))\n"
   ]
  },
  {
   "cell_type": "markdown",
   "metadata": {},
   "source": [
    "The section need to be repaired and an effective contact between the horizons and the fault must be defined.\n",
    "\n",
    "In this particular case, you simply need to set the delta variable initialized in the first cell to 0.0 and re run all cells.\n",
    "\n",
    "The watertight section can be observed in paraview as:\n",
    "\n",
    "![Watertight section](pictures/watertight_section.png)\n",
    "\n",
    "## BRep from triangulated surfaces\n",
    "\n",
    "In this part, we will learn to:\n",
    " 1. create planar triangulated surfaces,\n",
    " 2. use the geode-explicit toolbox in 3D to create valid BRep.\n",
    "\n",
    "The first step is to learn how to create a planar surface from its orbital points. We called orbital points, the points defining the geometry of surface border (shape of a closed surface). It must defines a polygon with less than 256 points. "
   ]
  },
  {
   "cell_type": "code",
   "execution_count": null,
   "metadata": {},
   "outputs": [],
   "source": [
    "# create surface from its orbital points in 3D\n",
    "def create_surface_from_orbital_points(points):\n",
    "    surface = og.PolygonalSurface3D.create()\n",
    "    builder = og.PolygonalSurfaceBuilder3D.create(surface)\n",
    "    vertices=[]\n",
    "    for point in points:\n",
    "        vertices.append(builder.create_point(point))\n",
    "    builder.create_polygon(vertices)\n",
    "    og.triangulate_surface_mesh3D(surface)\n",
    "    return og.convert_surface_mesh_into_triangulated_surface3D(surface)\n",
    "\n",
    "# 4 arbitrary points in defining a square in 3D\n",
    "points = [\n",
    "    og.Point3D([0,0,1]),\n",
    "    og.Point3D([0,1,1]),\n",
    "    og.Point3D([0,1,0]),\n",
    "    og.Point3D([0,0,0])\n",
    "]  \n",
    "\n",
    "# build 3D triangulated surface \n",
    "surface = create_surface_from_orbital_points(points)\n",
    "print(\"The surface is a square made of \"+ str(surface.nb_polygons()) + \" triangles.\")\n",
    "\n",
    "# save surface for paraview \n",
    "og.save_triangulated_surface3D(surface,output(\"surface.vtp\"))"
   ]
  },
  {
   "cell_type": "markdown",
   "metadata": {},
   "source": [
    "The created surface is a square discretized with two triangles and can be observed in paraview. \n",
    "\n",
    "![surface](./pictures/surface.png)\n",
    "\n",
    "\n",
    "### Create BRep of a 3D cube\n",
    "Start by creating the six surfaces defining the 3D cube aligned on main x,y,z axis. "
   ]
  },
  {
   "cell_type": "code",
   "execution_count": null,
   "metadata": {},
   "outputs": [],
   "source": [
    "# create an aligned box in 3D\n",
    "def create_aligned_box3D(extent):\n",
    "    bbox = og.BoundingBox3D()\n",
    "    bbox.add_point(og.Point3D([0,0,0]))\n",
    "    bbox.add_point(og.Point3D([extent,extent,extent]))\n",
    "    return bbox\n",
    "\n",
    "# define the alligned box of a particular size\n",
    "box = create_aligned_box3D(40)\n",
    "\n",
    "# corner points on the top of the box. \n",
    "top1 = og.Point3D([box.min().value(0),box.min().value(1),box.max().value(2)])\n",
    "top2 = og.Point3D([box.min().value(0),box.max().value(1),box.max().value(2)])\n",
    "top3 = og.Point3D([box.max().value(0),box.max().value(1),box.max().value(2)])\n",
    "top4 = og.Point3D([box.max().value(0),box.min().value(1),box.max().value(2)])\n",
    "\n",
    "# corner points on the bottom of the box. \n",
    "bot1 = og.Point3D([box.min().value(0),box.min().value(1),box.min().value(2)])\n",
    "bot2 = og.Point3D([box.min().value(0),box.max().value(1),box.min().value(2)])\n",
    "bot3 = og.Point3D([box.max().value(0),box.max().value(1),box.min().value(2)])\n",
    "bot4 = og.Point3D([box.max().value(0),box.min().value(1),box.min().value(2)])\n",
    "\n",
    "# surface of the bounding box. \n",
    "top = create_surface_from_orbital_points([top1,top2,top3,top4])\n",
    "bottom = create_surface_from_orbital_points([bot1,bot2,bot3,bot4])\n",
    "front = create_surface_from_orbital_points([top1,top4,bot4,bot1])\n",
    "back = create_surface_from_orbital_points([top2,top3,bot3,bot2])\n",
    "left = create_surface_from_orbital_points([top1,top2,bot2,bot1])\n",
    "right = create_surface_from_orbital_points([top3,top4,bot4,bot3])\n",
    "\n",
    "#save surfaces to be vizualized in paraview\n",
    "og.save_triangulated_surface3D(top,output(\"top.vtp\"))\n",
    "og.save_triangulated_surface3D(bottom,output(\"bottom.vtp\"))\n",
    "og.save_triangulated_surface3D(front,output(\"front.vtp\"))\n",
    "og.save_triangulated_surface3D(back,output(\"back.vtp\"))\n",
    "og.save_triangulated_surface3D(left,output(\"left.vtp\"))\n",
    "og.save_triangulated_surface3D(right,output(\"right.vtp\"))"
   ]
  },
  {
   "cell_type": "markdown",
   "metadata": {},
   "source": [
    "![box3d](./pictures/box3d.png)\n",
    "\n",
    "The geode-explicit module is used to:\n",
    " 1. compute intersections between triangulated surfaces (and then between produced edged curves),\n",
    " 1. create corners, lines, surfaces and blocks,\n",
    " 1. define consistent relations between corners, lines, surfaces and blocks,\n",
    " 1. define meshes for corners, lines and surfaces,\n",
    " 1. manage unique vertex identifier."
   ]
  },
  {
   "cell_type": "code",
   "execution_count": null,
   "metadata": {},
   "outputs": [],
   "source": [
    "# Use Geode-Explicit to generate the Watertight BRep\n",
    "modeler = explicit.BRepExplicitModeler(box)\n",
    "modeler.add_triangulated_surface(top)\n",
    "modeler.add_triangulated_surface(bottom)\n",
    "modeler.add_triangulated_surface(front)\n",
    "modeler.add_triangulated_surface(back)\n",
    "modeler.add_triangulated_surface(left)\n",
    "modeler.add_triangulated_surface(right)\n",
    "\n",
    "brep = modeler.build()\n",
    "print_brep_components(brep)\n",
    "\n",
    "og.save_brep(brep,output(\"02-box_brep.vtm\"))\n",
    "og.save_brep(brep,output(\"02-box_brep.og_brep\"))"
   ]
  },
  {
   "cell_type": "markdown",
   "metadata": {},
   "source": [
    "The previous steps can be gathered in a single function as follow:"
   ]
  },
  {
   "cell_type": "code",
   "execution_count": null,
   "metadata": {},
   "outputs": [],
   "source": [
    "def create_aligned_boxBRep3D(box):\n",
    "    # corner points on the top of the box. \n",
    "    top1 = og.Point3D([box.min().value(0),box.min().value(1),box.max().value(2)])\n",
    "    top2 = og.Point3D([box.min().value(0),box.max().value(1),box.max().value(2)])\n",
    "    top3 = og.Point3D([box.max().value(0),box.max().value(1),box.max().value(2)])\n",
    "    top4 = og.Point3D([box.max().value(0),box.min().value(1),box.max().value(2)])\n",
    "    # corner points on the bottom of the box. \n",
    "    bot1 = og.Point3D([box.min().value(0),box.min().value(1),box.min().value(2)])\n",
    "    bot2 = og.Point3D([box.min().value(0),box.max().value(1),box.min().value(2)])\n",
    "    bot3 = og.Point3D([box.max().value(0),box.max().value(1),box.min().value(2)])\n",
    "    bot4 = og.Point3D([box.max().value(0),box.min().value(1),box.min().value(2)])\n",
    "    # surface of the bounding box. \n",
    "    top = create_surface_from_orbital_points([top1,top2,top3,top4])\n",
    "    bottom = create_surface_from_orbital_points([bot1,bot2,bot3,bot4])\n",
    "    front = create_surface_from_orbital_points([top1,top4,bot4,bot1])\n",
    "    back = create_surface_from_orbital_points([top2,top3,bot3,bot2])\n",
    "    left = create_surface_from_orbital_points([top1,top2,bot2,bot1])\n",
    "    right = create_surface_from_orbital_points([top3,top4,bot4,bot3])\n",
    "    # explicit modeling to create the BRep\n",
    "    modeler = explicit.BRepExplicitModeler(box)\n",
    "    modeler.add_triangulated_surface(top)\n",
    "    modeler.add_triangulated_surface(bottom)\n",
    "    modeler.add_triangulated_surface(front)\n",
    "    modeler.add_triangulated_surface(back)\n",
    "    modeler.add_triangulated_surface(left)\n",
    "    modeler.add_triangulated_surface(right)\n",
    "    return modeler.build()\n",
    "    \n",
    "box = create_aligned_box3D(40)\n",
    "box_brep = create_aligned_boxBRep3D(box)\n",
    "print_brep_components(box_brep)\n"
   ]
  },
  {
   "cell_type": "markdown",
   "metadata": {},
   "source": [
    "Here again, the validity of the BRep created by the BRep explicit modeler is guaranteed and can be verified using the inspector functionalities."
   ]
  },
  {
   "cell_type": "code",
   "execution_count": null,
   "metadata": {},
   "outputs": [],
   "source": [
    "# inspector\n",
    "brep_inspector = inspector.BRepInspector(box_brep)\n",
    "result = brep_inspector.inspect_brep()\n",
    "print(result.string())"
   ]
  },
  {
   "cell_type": "markdown",
   "metadata": {},
   "source": [
    "Now it is time to mesh blocks. It works in a very similar way as in 2D."
   ]
  },
  {
   "cell_type": "code",
   "execution_count": null,
   "metadata": {},
   "outputs": [],
   "source": [
    "# load brep (eventually)\n",
    "#brbox_brepep = og.load_brep(input(\"02-box_brep.og_brep\"))\n",
    "\n",
    "# remesh\n",
    "# set up parameters for homogeneous remeshing\n",
    "edge_length = 2\n",
    "cst_metric = common.ConstantMetric3D(edge_length)\n",
    "\n",
    "# create and return the remeshed section\n",
    "remeshed_brep = simplex.simplex_remesh_brep(box_brep,cst_metric)[0]\n",
    "\n",
    "og.save_brep(remeshed_brep,output(\"02-remeshed_brep.vtm\"))\n",
    "print_brep_components(remeshed_brep)"
   ]
  },
  {
   "cell_type": "markdown",
   "metadata": {},
   "source": [
    "### Add flat horizontal surfaces in the cubic BRep\n",
    "Here orbital points are computed using the z position of horizontal surface and the box previously defined."
   ]
  },
  {
   "cell_type": "code",
   "execution_count": null,
   "metadata": {},
   "outputs": [],
   "source": [
    "def horizontal_surface_orbital_points(box,z_position):\n",
    "    return[\n",
    "    og.Point3D([box.min().value(0),box.min().value(1),z_position]),\n",
    "    og.Point3D([box.min().value(0),box.max().value(1),z_position]),\n",
    "    og.Point3D([box.max().value(0),box.max().value(1),z_position]),\n",
    "    og.Point3D([box.max().value(0),box.min().value(1),z_position])]\n",
    "\n",
    "# load brep (eventually)\n",
    "#box_brep = og.load_brep(input(\"02-box_brep.og_brep\"))\n",
    "\n",
    "hor_points = horizontal_surface_orbital_points(box,30)\n",
    "hor = create_surface_from_orbital_points(hor_points)\n",
    "\n",
    "# explicit modeling to create the BRep\n",
    "modeler = explicit.BRepExplicitModeler(box)\n",
    "modeler.add_brep(box_brep)\n",
    "modeler.add_triangulated_surface(hor)\n",
    "layered_brep = modeler.build()\n",
    "\n",
    "# save  \n",
    "og.save_brep(layered_brep,output(\"layered_brep.vtm\"))"
   ]
  },
  {
   "cell_type": "markdown",
   "metadata": {},
   "source": [
    "![surfaces BRep](pictures/surfaces_brep.png)\n"
   ]
  },
  {
   "cell_type": "code",
   "execution_count": null,
   "metadata": {},
   "outputs": [],
   "source": [
    "# load brep (eventually)\n",
    "#layered_brep = og.load_brep(input(\"02-layered_brep.og_brep\"))\n",
    "\n",
    "# remesh\n",
    "# set up parameters for homogeneous remeshing\n",
    "edge_length = 2\n",
    "cst_metric = common.ConstantMetric3D(edge_length)\n",
    "\n",
    "# create and return the remeshed section\n",
    "remeshed_layered_brep = simplex.simplex_remesh_brep(layered_brep,cst_metric)[0]\n",
    "\n",
    "og.save_brep(remeshed_layered_brep,output(\"02-remeshed_layered_brep.vtm\"))\n",
    "print_brep_components(remeshed_layered_brep)"
   ]
  },
  {
   "cell_type": "markdown",
   "metadata": {},
   "source": [
    "Please create and visualize several meshes.\n",
    "\n",
    "![homo mesh brep](pictures/homo_mesh_brep.png)\n",
    "\n",
    "The mesher allow to create adaptive meshes to bring higher spatial resolution in particular area."
   ]
  },
  {
   "cell_type": "code",
   "execution_count": null,
   "metadata": {},
   "outputs": [],
   "source": [
    "# load brep (eventually)\n",
    "#layered_brep = og.load_brep(input(\"02-layered_brep.og_brep\"))\n",
    "\n",
    "# adaptive remesh\n",
    "def is_model_boundary(brep_,surface_):\n",
    "  for col_surf in brep_.collections(surface_.id()):\n",
    "    if col_surf.type().matches(og.ModelBoundary3D.component_type_static()):\n",
    "      return True\n",
    "  return False\n",
    "  \n",
    "def small_edges_arround_internal_surface(brep_, default_size_, min_size_):\n",
    "  metric_constraints = simplex.BRepMetricConstraints(brep_)\n",
    "  metric_constraints.set_default_metric(default_size_)\n",
    "  for surf in brep_.surfaces() :\n",
    "    if(not is_model_boundary(brep_,surf)):\n",
    "      metric_constraints.set_surface_metric(surf,min_size_)\n",
    "  return metric_constraints\n",
    "\n",
    "max_size = 10\n",
    "min_size = 1\n",
    "metric_constraints = small_edges_arround_internal_surface(layered_brep,max_size,min_size)\n",
    "adaptive_brep = simplex.simplex_remesh_brep(layered_brep,metric_constraints.build_metric())[0]\n",
    "\n",
    "og.save_brep(adaptive_brep,output(\"02-adaptive_brep.vtm\"))"
   ]
  },
  {
   "cell_type": "markdown",
   "metadata": {},
   "source": [
    "![homo mesh brep](pictures/hetero_mesh_brep.png)\n",
    "\n",
    "Please try to create several meshes or try to add more surfaces in the model."
   ]
  }
 ],
 "metadata": {
  "kernelspec": {
   "display_name": "Python 3",
   "language": "python",
   "name": "python3"
  },
  "language_info": {
   "codemirror_mode": {
    "name": "ipython",
    "version": 3
   },
   "file_extension": ".py",
   "mimetype": "text/x-python",
   "name": "python",
   "nbconvert_exporter": "python",
   "pygments_lexer": "ipython3",
   "version": "3.11.0"
  }
 },
 "nbformat": 4,
 "nbformat_minor": 2
}
