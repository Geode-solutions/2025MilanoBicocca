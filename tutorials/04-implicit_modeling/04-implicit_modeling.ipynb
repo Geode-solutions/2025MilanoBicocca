{
 "cells": [
  {
   "cell_type": "code",
   "execution_count": null,
   "metadata": {},
   "outputs": [],
   "source": [
    "import opengeode as og \n",
    "import opengeode_geosciences as ogg\n",
    "import geode_numerics\n",
    "import geode_implicit \n",
    "\n",
    "# define various utilities functions\n",
    "import os\n",
    "def input(path):\n",
    "  return os.path.join(\"data/\",path) \n",
    "\n",
    "def create_folder_if_does_not_exists(path):\n",
    "  if( not os.path.isdir(path)):\n",
    "    os.makedirs(path)\n",
    "\n",
    "def output(path):\n",
    "  result_path = \"results/\"\n",
    "  create_folder_if_does_not_exists(result_path)\n",
    "  return os.path.join(result_path,path)\n",
    "\n",
    "def create_aligned_box3D(extent_x,extent_y,extent_z):\n",
    "    bbox = og.BoundingBox3D()\n",
    "    bbox.add_point(og.Point3D([0,0,0]))\n",
    "    bbox.add_point(og.Point3D([extent_x,extent_y,extent_z]))\n",
    "    return bbox\n",
    "\n",
    "print(\"Geode module imported!\")"
   ]
  },
  {
   "cell_type": "markdown",
   "metadata": {},
   "source": [
    "In this tutorial, e introduce the Geode implicit modeling tool to create a structural model boundary representation.\n",
    " * Create the volume of interest\n",
    " * Set up scalar field contraints\n",
    " * Interpolate scalar field\n",
    " * Create Structural Model Boundary Representation\n",
    "\n",
    "Visualizations will be done in paraview. \n",
    "\n",
    "## Define the volume of interest "
   ]
  },
  {
   "cell_type": "code",
   "execution_count": null,
   "metadata": {},
   "outputs": [],
   "source": [
    "box_voi = create_aligned_box3D(40.,40.,40.)\n",
    "\n",
    "print(\"An aligned box have been created lower left coordinates (\"+\n",
    "      str(box_voi.min().value(0))+\",\" +str(box_voi.min().value(1))+\",\"+str(box_voi.min().value(2))+\n",
    "      \") and upper right coordinates (\"+str(box_voi.max().value(0))+\",\" +str(box_voi.max().value(1))+\n",
    "      \",\"+str(box_voi.max().value(2))+\").\"\n",
    "      )"
   ]
  },
  {
   "cell_type": "markdown",
   "metadata": {},
   "source": [
    "## Set up scalar field constraints \n",
    "Field contraints are defined to create a moniclinal structural model. "
   ]
  },
  {
   "cell_type": "code",
   "execution_count": null,
   "metadata": {},
   "outputs": [],
   "source": [
    "# input point set file\n",
    "monoclinal_point_set_filename = input(\n",
    "            \"00_monoclinal_implicit_data_constraints3D.og_pts3d\")\n",
    "\n",
    "# convert data file to vtp file format \n",
    "pset_data = og.load_point_set3D(monoclinal_point_set_filename)\n",
    "og.save_point_set3D(pset_data,output(\n",
    "            \"00_monoclinal_implicit_data_constraints3D.vtp\"))\n",
    "\n",
    "# Build the data point manager and set up values from a file.\n",
    "data_constraints = geode_numerics.DataPointsManager3D()\n",
    "data_constraints.load_data_points(monoclinal_point_set_filename)\n",
    "\n",
    "print(str(data_constraints.nb_data_points())+\" points have been registered to constrain the scalar field.\")"
   ]
  },
  {
   "cell_type": "markdown",
   "metadata": {},
   "source": [
    "Points can be seen opening the ''file.vtp'' in paraview.\n",
    "\n",
    "## Interpolate the scalar field.\n",
    "The interpolation of the scalar field from the data points is done using the finite difference method. Such a method requires a structured grid for the computation. The resolution of this grid is a tradeoff between the resolution of the available data and the computational efficiency.\n",
    "\n",
    "Please refert to [ScalarFunctionComputer](https://docs.geode-solutions.com/references/geode-implicit/ScalarFunctionComputer.html)."
   ]
  },
  {
   "cell_type": "code",
   "execution_count": null,
   "metadata": {},
   "outputs": [],
   "source": [
    "# initialize the scalar field interpolator \n",
    "grid_step_vector = 4\n",
    "function_computer = geode_implicit.ScalarFunctionComputer3D(data_constraints, box_voi, grid_step_vector)\n",
    "\n",
    "# compute the scalar field\n",
    "scalar_field_property_name = \"boundaryfree_curvature_min\"\n",
    "function_computer.compute_scalar_function(scalar_field_property_name)"
   ]
  },
  {
   "cell_type": "markdown",
   "metadata": {},
   "source": [
    "## Create structural model boundary representation\n",
    "Extract an explicit representation of isovalues using the [GridScalarFunctionExpliciter3D](https://docs.geode-solutions.com/references/geode-implicit/GridScalarFunctionExpliciter3D.html). "
   ]
  },
  {
   "cell_type": "code",
   "execution_count": null,
   "metadata": {},
   "outputs": [],
   "source": [
    "# define scalar field isovalue\n",
    "nb_isovalues = 5\n",
    "isovalues = [2. / (10 - isovalue_id) for isovalue_id in range(nb_isovalues)]\n",
    "\n",
    "# set up expliciter tool\n",
    "expliciter = geode_implicit.GridScalarFunctionExpliciter3D(\n",
    "        function_computer.grid_with_results(), scalar_field_property_name)\n",
    "expliciter.add_scalar_isovalues(isovalues)\n",
    "\n",
    "# export the boundary representation\n",
    "brep = expliciter.build_brep()\n",
    "brep_filename = output(\"00_monoclinal_brep.vtm\")\n",
    "og.save_brep(brep, brep_filename)"
   ]
  },
  {
   "cell_type": "markdown",
   "metadata": {},
   "source": [
    "The boundary representation is now enriched with geological information and tha proper structural model is built. "
   ]
  },
  {
   "cell_type": "code",
   "execution_count": null,
   "metadata": {},
   "outputs": [],
   "source": [
    "structural_model = ogg.StructuralModel(brep)\n",
    "    \n",
    "implicit_model = ogg.implicit_model_from_structural_model_scalar_field(\n",
    "        structural_model, scalar_field_property_name)\n",
    "\n",
    "structural_model_filename = output(\"00_monoclinal_structural_model.og_istrm\")\n",
    "ogg.save_implicit_structural_model(\n",
    "        implicit_model, structural_model_filename)"
   ]
  },
  {
   "cell_type": "markdown",
   "metadata": {},
   "source": [
    "The model can be edited:\n",
    " * modifying constraining data\n",
    " * reinterpolating scalar field\n",
    " * exporting new boundary representation"
   ]
  },
  {
   "cell_type": "code",
   "execution_count": null,
   "metadata": {},
   "outputs": [],
   "source": [
    "def change_data_constraints(data_constraints):\n",
    "    data_constraints.add_data_point(\n",
    "        og.Point3D([5., 6.25, 34.]), 2, 10)\n",
    "    data_constraints.add_data_point(\n",
    "        og.Point3D([29.5, 30.3, 36.5]), 2, 10)\n",
    "    data_constraints.add_data_point(\n",
    "        og.Point3D([12.1, 24.9, 35.]), 2, 10)\n",
    "\n",
    "change_data_constraints(data_constraints)\n",
    "modified_pset_data = output(\n",
    "        \"00_monoclinal_implicit_data_constraints3D_v2.vtp\")\n",
    "data_constraints.save_data_points_manager(modified_pset_data)\n",
    "\n",
    "modified_scalar_field_property_name = \"boundaryfree_curvature_min_v2\"\n",
    "function_computer.compute_scalar_function_with_value_preconditioning(\n",
    "        modified_scalar_field_property_name, scalar_field_property_name)\n",
    "\n",
    "# set up expliciter tool\n",
    "modifyied_expliciter = geode_implicit.GridScalarFunctionExpliciter3D(\n",
    "        function_computer.grid_with_results(), modified_scalar_field_property_name)\n",
    "modifyied_expliciter.add_scalar_isovalues(isovalues)\n",
    "\n",
    "# export the boundary representation\n",
    "modifyied_brep = modifyied_expliciter.build_brep()\n",
    "modifyied_brep_filename = output(\"00_monoclinal_brep_v2.vtm\")\n",
    "og.save_brep(modifyied_brep, modifyied_brep_filename)"
   ]
  },
  {
   "cell_type": "markdown",
   "metadata": {},
   "source": [
    "Observe model deformation when adding the three points in red.\n",
    "![model comparison](./pictures/model_comp.png)"
   ]
  }
 ],
 "metadata": {
  "kernelspec": {
   "display_name": "venv",
   "language": "python",
   "name": "python3"
  },
  "language_info": {
   "codemirror_mode": {
    "name": "ipython",
    "version": 3
   },
   "file_extension": ".py",
   "mimetype": "text/x-python",
   "name": "python",
   "nbconvert_exporter": "python",
   "pygments_lexer": "ipython3",
   "version": "3.11.0"
  }
 },
 "nbformat": 4,
 "nbformat_minor": 2
}
